{
 "cells": [
  {
   "cell_type": "code",
   "execution_count": 2,
   "metadata": {},
   "outputs": [],
   "source": [
    "import pandas as pd\n",
    "import numpy as np"
   ]
  },
  {
   "cell_type": "code",
   "execution_count": 3,
   "metadata": {},
   "outputs": [],
   "source": [
    "df = pd.read_csv(\"uber_rides_data.xlsx - sample_train.csv\")"
   ]
  },
  {
   "cell_type": "code",
   "execution_count": 4,
   "metadata": {},
   "outputs": [
    {
     "name": "stdout",
     "output_type": "stream",
     "text": [
      "Index(['ride_id', 'fare_amount', 'pickup_datetime', 'pickup_longitude',\n",
      "       'pickup_latitude', 'dropoff_longitude', 'dropoff_latitude',\n",
      "       'passenger_count'],\n",
      "      dtype='object')\n"
     ]
    }
   ],
   "source": [
    "print(df.columns)"
   ]
  },
  {
   "cell_type": "code",
   "execution_count": 5,
   "metadata": {},
   "outputs": [
    {
     "data": {
      "text/html": [
       "<div>\n",
       "<style scoped>\n",
       "    .dataframe tbody tr th:only-of-type {\n",
       "        vertical-align: middle;\n",
       "    }\n",
       "\n",
       "    .dataframe tbody tr th {\n",
       "        vertical-align: top;\n",
       "    }\n",
       "\n",
       "    .dataframe thead th {\n",
       "        text-align: right;\n",
       "    }\n",
       "</style>\n",
       "<table border=\"1\" class=\"dataframe\">\n",
       "  <thead>\n",
       "    <tr style=\"text-align: right;\">\n",
       "      <th></th>\n",
       "      <th>ride_id</th>\n",
       "      <th>fare_amount</th>\n",
       "      <th>pickup_datetime</th>\n",
       "      <th>pickup_longitude</th>\n",
       "      <th>pickup_latitude</th>\n",
       "      <th>dropoff_longitude</th>\n",
       "      <th>dropoff_latitude</th>\n",
       "      <th>passenger_count</th>\n",
       "    </tr>\n",
       "  </thead>\n",
       "  <tbody>\n",
       "    <tr>\n",
       "      <th>0</th>\n",
       "      <td>24238194</td>\n",
       "      <td>7.5</td>\n",
       "      <td>2015-05-07 19:52:06 UTC</td>\n",
       "      <td>-73.999817</td>\n",
       "      <td>40.738354</td>\n",
       "      <td>-73.999512</td>\n",
       "      <td>40.723217</td>\n",
       "      <td>1</td>\n",
       "    </tr>\n",
       "    <tr>\n",
       "      <th>1</th>\n",
       "      <td>27835199</td>\n",
       "      <td>7.7</td>\n",
       "      <td>2009-07-17 20:04:56 UTC</td>\n",
       "      <td>-73.994355</td>\n",
       "      <td>40.728225</td>\n",
       "      <td>-73.994710</td>\n",
       "      <td>40.750325</td>\n",
       "      <td>1</td>\n",
       "    </tr>\n",
       "    <tr>\n",
       "      <th>2</th>\n",
       "      <td>44984355</td>\n",
       "      <td>12.9</td>\n",
       "      <td>2009-08-24 21:45:00 UTC</td>\n",
       "      <td>-74.005043</td>\n",
       "      <td>40.740770</td>\n",
       "      <td>-73.962565</td>\n",
       "      <td>40.772647</td>\n",
       "      <td>1</td>\n",
       "    </tr>\n",
       "    <tr>\n",
       "      <th>3</th>\n",
       "      <td>25894730</td>\n",
       "      <td>5.3</td>\n",
       "      <td>2009-06-26 08:22:21 UTC</td>\n",
       "      <td>-73.976124</td>\n",
       "      <td>40.790844</td>\n",
       "      <td>-73.965316</td>\n",
       "      <td>40.803349</td>\n",
       "      <td>3</td>\n",
       "    </tr>\n",
       "    <tr>\n",
       "      <th>4</th>\n",
       "      <td>17610152</td>\n",
       "      <td>16.0</td>\n",
       "      <td>2014-08-28 17:47:00 UTC</td>\n",
       "      <td>-73.925023</td>\n",
       "      <td>40.744085</td>\n",
       "      <td>-73.973082</td>\n",
       "      <td>40.761247</td>\n",
       "      <td>5</td>\n",
       "    </tr>\n",
       "  </tbody>\n",
       "</table>\n",
       "</div>"
      ],
      "text/plain": [
       "    ride_id  fare_amount          pickup_datetime  pickup_longitude  \\\n",
       "0  24238194          7.5  2015-05-07 19:52:06 UTC        -73.999817   \n",
       "1  27835199          7.7  2009-07-17 20:04:56 UTC        -73.994355   \n",
       "2  44984355         12.9  2009-08-24 21:45:00 UTC        -74.005043   \n",
       "3  25894730          5.3  2009-06-26 08:22:21 UTC        -73.976124   \n",
       "4  17610152         16.0  2014-08-28 17:47:00 UTC        -73.925023   \n",
       "\n",
       "   pickup_latitude  dropoff_longitude  dropoff_latitude  passenger_count  \n",
       "0        40.738354         -73.999512         40.723217                1  \n",
       "1        40.728225         -73.994710         40.750325                1  \n",
       "2        40.740770         -73.962565         40.772647                1  \n",
       "3        40.790844         -73.965316         40.803349                3  \n",
       "4        40.744085         -73.973082         40.761247                5  "
      ]
     },
     "execution_count": 5,
     "metadata": {},
     "output_type": "execute_result"
    }
   ],
   "source": [
    "df.head()"
   ]
  },
  {
   "cell_type": "code",
   "execution_count": 6,
   "metadata": {},
   "outputs": [
    {
     "data": {
      "text/plain": [
       "(200000, 8)"
      ]
     },
     "execution_count": 6,
     "metadata": {},
     "output_type": "execute_result"
    }
   ],
   "source": [
    "df.shape"
   ]
  },
  {
   "cell_type": "code",
   "execution_count": 7,
   "metadata": {},
   "outputs": [
    {
     "name": "stdout",
     "output_type": "stream",
     "text": [
      "ride_id                int64\n",
      "fare_amount          float64\n",
      "pickup_datetime       object\n",
      "pickup_longitude     float64\n",
      "pickup_latitude      float64\n",
      "dropoff_longitude    float64\n",
      "dropoff_latitude     float64\n",
      "passenger_count        int64\n",
      "dtype: object\n"
     ]
    }
   ],
   "source": [
    "print(df.dtypes)"
   ]
  },
  {
   "cell_type": "code",
   "execution_count": 8,
   "metadata": {},
   "outputs": [
    {
     "name": "stdout",
     "output_type": "stream",
     "text": [
      "ride_id              0\n",
      "fare_amount          0\n",
      "pickup_datetime      0\n",
      "pickup_longitude     0\n",
      "pickup_latitude      0\n",
      "dropoff_longitude    1\n",
      "dropoff_latitude     1\n",
      "passenger_count      0\n",
      "dtype: int64\n"
     ]
    }
   ],
   "source": [
    "print(df.isnull().sum())"
   ]
  },
  {
   "cell_type": "code",
   "execution_count": 40,
   "metadata": {},
   "outputs": [
    {
     "name": "stdout",
     "output_type": "stream",
     "text": [
      "0        2015-05-07 19:52:06\n",
      "1        2009-07-17 20:04:56\n",
      "2        2009-08-24 21:45:00\n",
      "3        2009-06-26 08:22:21\n",
      "4        2014-08-28 17:47:00\n",
      "5        2011-02-12 02:27:09\n",
      "6        2014-10-12 07:04:00\n",
      "7        2012-12-11 13:52:00\n",
      "8        2012-02-17 09:32:00\n",
      "9        2012-03-29 19:06:00\n",
      "10       2015-05-22 17:32:27\n",
      "11       2011-05-23 22:15:00\n",
      "12       2011-05-17 14:03:00\n",
      "13       2011-06-25 11:19:00\n",
      "14       2010-04-06 22:20:27\n",
      "15       2012-02-21 09:33:00\n",
      "16       2011-09-01 09:21:40\n",
      "17       2011-03-19 23:58:27\n",
      "18       2015-03-25 08:58:35\n",
      "19       2009-08-08 00:20:00\n",
      "20       2014-02-18 14:26:00\n",
      "21       2015-03-03 23:15:03\n",
      "22       2009-11-26 02:58:00\n",
      "23       2010-09-04 16:12:00\n",
      "24       2010-05-12 22:32:00\n",
      "25       2009-02-12 17:52:18\n",
      "26       2014-01-21 06:55:00\n",
      "27       2012-11-21 17:37:19\n",
      "28       2009-05-06 20:06:23\n",
      "29       2011-12-24 02:52:00\n",
      "                 ...        \n",
      "199970   2012-11-29 07:49:50\n",
      "199971   2012-04-07 22:56:00\n",
      "199972   2010-08-20 13:19:55\n",
      "199973   2012-11-07 17:53:00\n",
      "199974   2013-12-28 23:06:00\n",
      "199975   2009-11-20 19:00:30\n",
      "199976   2011-10-18 23:53:00\n",
      "199977   2012-11-20 21:04:30\n",
      "199978   2009-04-15 08:25:01\n",
      "199979   2014-06-08 21:38:43\n",
      "199980   2012-10-22 11:18:32\n",
      "199981   2014-06-02 21:51:50\n",
      "199982   2014-08-06 11:06:06\n",
      "199983   2009-08-29 02:36:56\n",
      "199984   2015-06-08 12:34:33\n",
      "199985   2015-04-18 15:16:06\n",
      "199986   2013-09-07 09:54:32\n",
      "199987   2011-04-30 00:09:16\n",
      "199988   2011-10-09 02:02:40\n",
      "199989   2010-02-18 07:12:00\n",
      "199990   2015-05-24 22:05:56\n",
      "199991   2015-06-08 10:49:14\n",
      "199992   2010-01-30 16:24:00\n",
      "199993   2012-09-29 19:51:27\n",
      "199994   2014-01-31 14:42:00\n",
      "199995   2012-10-28 10:49:00\n",
      "199996   2014-03-14 01:09:00\n",
      "199997   2009-06-29 00:42:00\n",
      "199998   2015-05-20 14:56:25\n",
      "199999   2010-05-15 04:08:00\n",
      "Name: pickup_datetime, Length: 199999, dtype: datetime64[ns]\n"
     ]
    }
   ],
   "source": [
    "print(pd.to_datetime(df['pickup_datetime']))\n"
   ]
  },
  {
   "cell_type": "code",
   "execution_count": 41,
   "metadata": {},
   "outputs": [],
   "source": [
    "df.dropna(axis=0, inplace=True)"
   ]
  },
  {
   "cell_type": "code",
   "execution_count": 42,
   "metadata": {},
   "outputs": [
    {
     "name": "stdout",
     "output_type": "stream",
     "text": [
      "ride_id               0\n",
      "fare_amount           0\n",
      "pickup_datetime       0\n",
      "pickup_longitude      0\n",
      "pickup_latitude       0\n",
      "dropoff_longitude     0\n",
      "dropoff_latitude      0\n",
      "passenger_count       0\n",
      "haversine_distance    0\n",
      "pickup_year           0\n",
      "pickup_quarter        0\n",
      "day_of_week           0\n",
      "dtype: int64\n"
     ]
    }
   ],
   "source": [
    "print(df.isnull().sum())"
   ]
  },
  {
   "cell_type": "code",
   "execution_count": 43,
   "metadata": {},
   "outputs": [
    {
     "name": "stdout",
     "output_type": "stream",
     "text": [
      "The average fare amount is: 11.359892\n"
     ]
    }
   ],
   "source": [
    "\n",
    "average_fare_amount = df['fare_amount'].mean()\n",
    "\n",
    "print(f\"The average fare amount is: {average_fare_amount:.6f}\")\n"
   ]
  },
  {
   "cell_type": "code",
   "execution_count": null,
   "metadata": {},
   "outputs": [],
   "source": [
    "def haversine(lat1, lon1, lat2, lon2):\n",
    "    lat1, lon1, lat2, lon2 = map(np.radians, [lat1, lon1, lat2, lon2])\n",
    "    dlat = lat2 - lat1\n",
    "    dlon = lon2 - lon1\n",
    "    a = np.sin(dlat/2)**2 + np.cos(lat1) * np.cos(lat2) * np.sin(dlon/2)**2\n",
    "    c = 2 * np.arcsin(np.sqrt(a))\n",
    "    r = 6371 \n",
    "    return c * r\n",
    "\n",
    "\n",
    "df['haversine_distance'] = haversine(df['pickup_latitude'], df['pickup_longitude'], df['dropoff_latitude'], df['dropoff_longitude'])\n",
    "median_haversine_distance = df['haversine_distance'].median()\n",
    "print(f\"The median Haversine distance between pickup and dropoff locations is: {median_haversine_distance:.2f} kilometers\")\n"
   ]
  },
  {
   "cell_type": "code",
   "execution_count": 44,
   "metadata": {},
   "outputs": [
    {
     "name": "stdout",
     "output_type": "stream",
     "text": [
      "The maximum Haversine distance between pickup and dropoff locations is: 16409.24 kilometers\n"
     ]
    }
   ],
   "source": [
    "max_haversine_distance = df['haversine_distance'].max()\n",
    "\n",
    "print(f\"The maximum Haversine distance between pickup and dropoff locations is: {max_haversine_distance:.2f} kilometers\")\n"
   ]
  },
  {
   "cell_type": "code",
   "execution_count": 45,
   "metadata": {},
   "outputs": [
    {
     "name": "stdout",
     "output_type": "stream",
     "text": [
      "The number of rides with 0.0 Haversine distance between pickup and dropoff locations is: 5632\n"
     ]
    }
   ],
   "source": [
    "zero_haversine_mask = df['haversine_distance'] == 0.0\n",
    "rides_with_zero_haversine_distance = zero_haversine_mask.sum()\n",
    "print(f\"The number of rides with 0.0 Haversine distance between pickup and dropoff locations is: {rides_with_zero_haversine_distance}\")\n"
   ]
  },
  {
   "cell_type": "code",
   "execution_count": 46,
   "metadata": {},
   "outputs": [
    {
     "name": "stdout",
     "output_type": "stream",
     "text": [
      "The mean 'fare_amount' for rides with 0.0 Haversine distance is: 11.59\n"
     ]
    }
   ],
   "source": [
    "rides_with_zero_haversine = df[df['haversine_distance'] == 0.0]\n",
    "mean_fare_amount_for_zero_haversine = rides_with_zero_haversine['fare_amount'].mean()\n",
    "\n",
    "print(f\"The mean 'fare_amount' for rides with 0.0 Haversine distance is: {mean_fare_amount_for_zero_haversine:.2f}\")\n"
   ]
  },
  {
   "cell_type": "code",
   "execution_count": 47,
   "metadata": {},
   "outputs": [
    {
     "name": "stdout",
     "output_type": "stream",
     "text": [
      "The maximum 'fare_amount' for a ride is: 499.00\n"
     ]
    }
   ],
   "source": [
    "max_fare_amount = df['fare_amount'].max()\n",
    "print(f\"The maximum 'fare_amount' for a ride is: {max_fare_amount:.2f}\")\n"
   ]
  },
  {
   "cell_type": "code",
   "execution_count": 48,
   "metadata": {},
   "outputs": [
    {
     "name": "stdout",
     "output_type": "stream",
     "text": [
      "The Haversine distance for the costliest ride is: 0.00079 kilometers\n"
     ]
    }
   ],
   "source": [
    "costliest_ride = df[df['fare_amount'] == df['fare_amount'].max()]\n",
    "\n",
    "from math import radians\n",
    "\n",
    "def haversine(lat1, lon1, lat2, lon2):\n",
    "   \n",
    "    lat1, lon1, lat2, lon2 = map(radians, [lat1, lon1, lat2, lon2])\n",
    "    dlat = lat2 - lat1\n",
    "    dlon = lon2 - lon1\n",
    "    a = (dlat/2)**2 + (dlon/2)**2 * np.cos(lat1) * np.cos(lat2)\n",
    "    c = 2 * np.arcsin(np.sqrt(a))\n",
    "    r = 6371 \n",
    "    return c * r\n",
    "\n",
    "pickup_lat = costliest_ride['pickup_latitude'].values[0]\n",
    "pickup_lon = costliest_ride['pickup_longitude'].values[0]\n",
    "dropoff_lat = costliest_ride['dropoff_latitude'].values[0]\n",
    "dropoff_lon = costliest_ride['dropoff_longitude'].values[0]\n",
    "\n",
    "haversine_distance = haversine(pickup_lat, pickup_lon, dropoff_lat, dropoff_lon)\n",
    "\n",
    "print(f\"The Haversine distance for the costliest ride is: {haversine_distance:.5f} kilometers\")\n"
   ]
  },
  {
   "cell_type": "code",
   "execution_count": 49,
   "metadata": {},
   "outputs": [
    {
     "name": "stdout",
     "output_type": "stream",
     "text": [
      "The number of rides recorded in the year 2014 is: 29968\n"
     ]
    }
   ],
   "source": [
    "df['pickup_datetime'] = pd.to_datetime(df['pickup_datetime'])\n",
    "df['pickup_year'] = df['pickup_datetime'].dt.year\n",
    "rides_in_2014 = len(df[df['pickup_year'] == 2014])\n",
    "\n",
    "print(f\"The number of rides recorded in the year 2014 is: {rides_in_2014}\")"
   ]
  },
  {
   "cell_type": "code",
   "execution_count": 50,
   "metadata": {},
   "outputs": [
    {
     "name": "stdout",
     "output_type": "stream",
     "text": [
      "The number of rides recorded in the first quarter of 2014 is: 7687\n"
     ]
    }
   ],
   "source": [
    "df['pickup_datetime'] = pd.to_datetime(df['pickup_datetime'])\n",
    "df['pickup_year'] = df['pickup_datetime'].dt.year\n",
    "df['pickup_quarter'] = df['pickup_datetime'].dt.quarter\n",
    "rides_in_q1_2014 = len(df[(df['pickup_year'] == 2014) & (df['pickup_quarter'] == 1)])\n",
    "\n",
    "print(f\"The number of rides recorded in the first quarter of 2014 is: {rides_in_q1_2014}\")\n"
   ]
  },
  {
   "cell_type": "code",
   "execution_count": 53,
   "metadata": {},
   "outputs": [
    {
     "name": "stdout",
     "output_type": "stream",
     "text": [
      "The day of the week in September 2010 with the maximum rides recorded was: Thursday\n"
     ]
    }
   ],
   "source": [
    "df['day_of_week'] = df['pickup_datetime'].dt.dayofweek\n",
    "september_2010_rides = df[(df['pickup_datetime'].dt.year == 2010) & (df['pickup_datetime'].dt.month == 9)]\n",
    "rides_by_day = september_2010_rides.groupby('day_of_week')['day_of_week'].count()\n",
    "max_rides_day = rides_by_day.idxmax()\n",
    "days_of_week = ['Monday', 'Tuesday', 'Wednesday', 'Thursday', 'Friday', 'Saturday', 'Sunday']\n",
    "day_name = days_of_week[max_rides_day]\n",
    "\n",
    "print(f\"The day of the week in September 2010 with the maximum rides recorded was: {day_name}\")\n"
   ]
  },
  {
   "cell_type": "code",
   "execution_count": null,
   "metadata": {},
   "outputs": [],
   "source": []
  },
  {
   "cell_type": "code",
   "execution_count": null,
   "metadata": {},
   "outputs": [],
   "source": []
  },
  {
   "cell_type": "code",
   "execution_count": null,
   "metadata": {},
   "outputs": [],
   "source": []
  },
  {
   "cell_type": "code",
   "execution_count": null,
   "metadata": {},
   "outputs": [],
   "source": []
  }
 ],
 "metadata": {
  "kernelspec": {
   "display_name": "Python 3",
   "language": "python",
   "name": "python3"
  },
  "language_info": {
   "codemirror_mode": {
    "name": "ipython",
    "version": 3
   },
   "file_extension": ".py",
   "mimetype": "text/x-python",
   "name": "python",
   "nbconvert_exporter": "python",
   "pygments_lexer": "ipython3",
   "version": "3.6.5"
  }
 },
 "nbformat": 4,
 "nbformat_minor": 2
}
